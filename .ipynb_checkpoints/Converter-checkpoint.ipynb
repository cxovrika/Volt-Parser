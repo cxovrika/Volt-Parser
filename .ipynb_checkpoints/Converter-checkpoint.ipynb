{
 "cells": [
  {
   "cell_type": "code",
   "execution_count": null,
   "metadata": {
    "collapsed": true
   },
   "outputs": [],
   "source": [
    "import requests\n",
    "from bs4 import BeautifulSoup\n",
    "from selenium import webdriver\n",
    "from selenium.webdriver.common.keys import Keys\n",
    "from selenium.webdriver.common.by import By\n",
    "from selenium.webdriver.support.ui import WebDriverWait\n",
    "from selenium.webdriver.support import expected_conditions as EC\n",
    "import csv"
   ]
  },
  {
   "cell_type": "code",
   "execution_count": null,
   "metadata": {
    "collapsed": true
   },
   "outputs": [],
   "source": [
    "bet_thresholds  = [5, 10, 20, 30, 50, 70, 100, 200, 500, 1000, 2500]\n",
    "volt_thresholds = [1.00, 1.10, 1.20, 1.30, 1.50, 1.70, 2.00, 2.40, 2.80, 3.20, 3.50, 5.00]"
   ]
  },
  {
   "cell_type": "code",
   "execution_count": null,
   "metadata": {},
   "outputs": [],
   "source": [
    "def get_volt_index(x):\n",
    "    for i in range(len(volt_thresholds)):\n",
    "        if (volt_thresholds[i] >= x): return i;\n",
    "        \n",
    "    return len(volt_thresholds)\n",
    "\n",
    "def get_bet_index(x):\n",
    "    for i in range(len(bet_thresholds)):\n",
    "        if (bet_thresholds[i] >= x): return i;\n",
    "        \n",
    "    return len(bet_thresholds)\n",
    "\n",
    "\n",
    "def convert_bets_by_thresholds(bets):\n",
    "    converted_bets = [0 for x in bet_thresholds]\n",
    "    converted_bets.append(0)\n",
    "    for x in bets:\n",
    "        index = get_bet_index(x)\n",
    "        converted_bets[index] += 1\n",
    "    \n",
    "    return converted_bets\n",
    "\n",
    "def add_converted_game_info(last_volt, current_bets, win_bets, last_cashes):\n",
    "    volt_index = get_volt_index(last_volt)\n",
    "    converted_losses = convert_bets_by_thresholds(current_bets)\n",
    "    converted_wins  = convert_bets_by_thresholds(win_bets)\n",
    "    \n",
    "    add_summary_to_csv(volt_index, converted_losses, converted_wins, last_cashes)\n",
    "\n",
    "def add_summary_to_csv(volt_index, converted_losses, converted_wins, last_cashes, file_name = \"converted_games\"):\n",
    "    row_list = [volt_index] + converted_losses + converted_wins + last_cashes\n",
    "    \n",
    "    with open(file_name, 'a') as myfile:\n",
    "        wr = csv.writer(myfile)\n",
    "        wr.writerow(row_list)\n",
    "        \n",
    "\n",
    "def convert_data(file_name = \"game_info\"):\n",
    "    \n",
    "    with open(file_name, 'r') as myfile:\n",
    "        rd = csv.reader(myfile, quoting=csv.QUOTE_ALL)\n",
    "        \n",
    "        last_volt = None\n",
    "        current_bets = None\n",
    "        win_bets = None\n",
    "        last_cashes = None\n",
    "        \n",
    "        \n",
    "        for row in rd:\n",
    "            if len(row) == 0: continue\n",
    "            if (row[0] == 'last_volt'):    last_volt =    float(row[1])\n",
    "            if (row[0] == 'current_bets'): current_bets = [float(x) for x in row[1:]]\n",
    "            if (row[0] == 'win_bets'):     win_bets =     [float(x) for x in row[1:]]\n",
    "            if (row[0] == 'last_cashes'):  last_cashes =  [float(x) for x in row[1:]]\n",
    "            \n",
    "            if (row[0] == 'last_cashes'):\n",
    "                add_converted_game_info(last_volt, current_bets, win_bets, last_cashes)\n",
    "                    "
   ]
  },
  {
   "cell_type": "code",
   "execution_count": null,
   "metadata": {},
   "outputs": [],
   "source": [
    "convert_data()"
   ]
  },
  {
   "cell_type": "raw",
   "metadata": {},
   "source": []
  }
 ],
 "metadata": {
  "kernelspec": {
   "display_name": "Python 3",
   "language": "python",
   "name": "python3"
  },
  "language_info": {
   "codemirror_mode": {
    "name": "ipython",
    "version": 3
   },
   "file_extension": ".py",
   "mimetype": "text/x-python",
   "name": "python",
   "nbconvert_exporter": "python",
   "pygments_lexer": "ipython3",
   "version": "3.6.1"
  }
 },
 "nbformat": 4,
 "nbformat_minor": 2
}
