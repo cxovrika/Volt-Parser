{
 "cells": [
  {
   "cell_type": "code",
   "execution_count": null,
   "metadata": {
    "collapsed": true
   },
   "outputs": [],
   "source": [
    "import requests\n",
    "from bs4 import BeautifulSoup\n",
    "from selenium import webdriver\n",
    "from selenium.webdriver.common.keys import Keys\n",
    "from selenium.webdriver.common.by import By\n",
    "from selenium.webdriver.support.ui import WebDriverWait\n",
    "from selenium.webdriver.support import expected_conditions as EC"
   ]
  },
  {
   "cell_type": "code",
   "execution_count": null,
   "metadata": {
    "collapsed": true
   },
   "outputs": [],
   "source": [
    "def get_text_excluding_children(driver, element):\n",
    "    return driver.execute_script(\"\"\"\n",
    "    return jQuery(arguments[0]).contents().filter(function() {\n",
    "        return this.nodeType == Node.TEXT_NODE;\n",
    "    }).text();\n",
    "    \"\"\", element)\n",
    "\n",
    "def driver_instance():\n",
    "    driver = webdriver.Firefox()\n",
    "    driver.get(\"https://volt.lider-bet.com/?v=102\")\n",
    "    return driver\n",
    "\n",
    "def get_last_volt(driver):\n",
    "    element = driver.find_elements(By.XPATH, '//div[contains(@class, \"busted\")]/span')[0]\n",
    "    return get_text_excluding_children(driver, element)[:-1]\n",
    "\n",
    "def get_current_bets(driver):\n",
    "    current_bets = driver.find_elements(By.XPATH, '//tr[contains(@class, \"current-bet\")]/td[contains(@class, \"td-bet\")]')\n",
    "    return [get_text_excluding_children(driver, current_bet) for current_bet in current_bets]\n",
    "\n",
    "def get_win_bets(driver):\n",
    "    win_bets = driver.find_elements(By.XPATH, '//tr[contains(@class, \"win-bet\")]/td[contains(@class, \"td-bet\")]')\n",
    "    return [get_text_excluding_children(driver, win_bet) for win_bet in win_bets]\n",
    "\n",
    "def get_win_nums(driver):\n",
    "    win_nums = driver.find_elements(By.XPATH, '//tr[contains(@class, \"win-bet\")]/td[contains(@class, \"td-num\")]')\n",
    "    return [get_text_excluding_children(driver, win_num) for win_num in win_nums]\n",
    "\n",
    "def get_last_cashes(driver, cash_count = 70):\n",
    "    cashes = driver.find_elements(By.XPATH, '//td[contains(@class, \"td-cash\")]/span[contains(@class, \"num-volt\")]')\n",
    "    return [get_text_excluding_children(driver, cash)[:-1] for cash in cashes[:cash_count]]\n",
    "\n",
    "def wait_game_end(driver, print_progress = False):\n",
    "    if print_progress:\n",
    "        print(\"Waiting for bet accepting...\")\n",
    "    \n",
    "    WebDriverWait(driver, 100).until(\n",
    "        EC.presence_of_element_located((By.XPATH, \"//div[contains(@class, 'accepting-bets') and contains(@class, 'active')]\"))\n",
    "    )\n",
    "    if print_progress:\n",
    "        print(\"Bet accepting started, now waiting for bust\")\n",
    "    \n",
    "    WebDriverWait(driver, 100).until(\n",
    "        EC.presence_of_element_located((By.XPATH, \"//div[contains(@class, 'busted') and contains(@class, 'active')]\"))\n",
    "    )\n",
    "    if print_progress:\n",
    "        print(\"busted!\\n\\n\")"
   ]
  },
  {
   "cell_type": "code",
   "execution_count": null,
   "metadata": {
    "collapsed": true
   },
   "outputs": [],
   "source": [
    "driver = driver_instance()"
   ]
  },
  {
   "cell_type": "code",
   "execution_count": null,
   "metadata": {
    "collapsed": true
   },
   "outputs": [],
   "source": []
  }
 ],
 "metadata": {
  "kernelspec": {
   "display_name": "Python 3",
   "language": "python",
   "name": "python3"
  },
  "language_info": {
   "codemirror_mode": {
    "name": "ipython",
    "version": 3
   },
   "file_extension": ".py",
   "mimetype": "text/x-python",
   "name": "python",
   "nbconvert_exporter": "python",
   "pygments_lexer": "ipython3",
   "version": "3.6.1"
  }
 },
 "nbformat": 4,
 "nbformat_minor": 2
}
